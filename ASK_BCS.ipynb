{
 "cells": [
  {
   "cell_type": "code",
   "execution_count": null,
   "id": "66b7903b",
   "metadata": {},
   "outputs": [],
   "source": [
    "# Import Dependencies\n",
    "from splinter import Browser\n",
    "from bs4 import BeautifulSoup as soup\n",
    "from webdriver_manager.chrome import ChromeDriverManager\n",
    "import requests\n",
    "import pandas as pd"
   ]
  },
  {
   "cell_type": "code",
   "execution_count": null,
   "id": "6eb69722",
   "metadata": {},
   "outputs": [],
   "source": [
    "# Visit the Quotes to Scrape site\n",
    "url = 'https://www.nfl.com/injuries/'\n",
    "# browser.visit(url)\n",
    "# Create object page\n",
    "page = requests.get(url)"
   ]
  },
  {
   "cell_type": "code",
   "execution_count": null,
   "id": "91ede614",
   "metadata": {},
   "outputs": [],
   "source": [
    "# Obtain page's information\n",
    "html_soup = soup(page.text, 'html.parser')\n",
    "print(html_soup.prettify())"
   ]
  },
  {
   "cell_type": "code",
   "execution_count": null,
   "id": "7e6749d6",
   "metadata": {},
   "outputs": [],
   "source": [
    "# Obtain information from all tables\n",
    "tables = html_soup.find_all('div', class_='d3-o-table--horizontal-scroll')\n",
    "tables"
   ]
  },
  {
   "cell_type": "code",
   "execution_count": null,
   "id": "2595d039",
   "metadata": {},
   "outputs": [],
   "source": [
    "#looking thorugh all tables and pulling contents of each cell\n",
    "for table in tables:\n",
    "    rows = table.find_all('tr')\n",
    "    for row in rows:\n",
    "        try:\n",
    "            cells = row.find_all('td')\n",
    "            # print contents of the second cell in the row\n",
    "            print( cells[1].text )\n",
    "        except:\n",
    "            pass"
   ]
  },
  {
   "cell_type": "code",
   "execution_count": null,
   "id": "7314e9b5",
   "metadata": {},
   "outputs": [],
   "source": [
    "# Trying to refactor the above for loop to have the cell data into list so we can create a dataframe.\n",
    "\n",
    "injury_list = []\n",
    "\n",
    "for table in tables:\n",
    "    rows = table.find_all('tr')\n",
    "    \n",
    "    for row in rows:\n",
    "        try:\n",
    "            cells = row.find_all('td')\n",
    "            \n",
    "            injury_list.append([rows, rows+1])\n",
    "            \n",
    "            # print contents of the second cell in the row\n",
    "#             print( cells[1].text )\n",
    "        except:\n",
    "            pass\n",
    "print(injury_list) "
   ]
  }
 ],
 "metadata": {
  "kernelspec": {
   "display_name": "PythonData",
   "language": "python",
   "name": "pythondata"
  },
  "language_info": {
   "codemirror_mode": {
    "name": "ipython",
    "version": 3
   },
   "file_extension": ".py",
   "mimetype": "text/x-python",
   "name": "python",
   "nbconvert_exporter": "python",
   "pygments_lexer": "ipython3",
   "version": "3.7.11"
  }
 },
 "nbformat": 4,
 "nbformat_minor": 5
}
